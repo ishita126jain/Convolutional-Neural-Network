{
  "nbformat": 4,
  "nbformat_minor": 0,
  "metadata": {
    "colab": {
      "provenance": []
    },
    "kernelspec": {
      "name": "python3",
      "display_name": "Python 3"
    },
    "language_info": {
      "name": "python"
    }
  },
  "cells": [
    {
      "cell_type": "code",
      "execution_count": null,
      "metadata": {
        "id": "n7kBH3CYbJKS"
      },
      "outputs": [],
      "source": [
        "from keras import Sequential\n",
        "from keras.layers import Conv2D "
      ]
    },
    {
      "cell_type": "code",
      "source": [
        "model = Sequential()\n",
        "#model.add(Conv2D(Number of kernels, size of kernel, activation function, if first line of convolution layer then input shape come otherwise no input shape))\n",
        "model.add(Conv2D(32,kernel_size=(3,3),padding='same', activation='relu',input_shape=(28,28,1)))\n",
        "#by default padding is valid to make it so image size not change we write padding=\"same\"\n",
        "model.add(Conv2D(64,kernel_size=(3,3),padding='same', activation='relu'))\n",
        "model.add(Conv2D(128,kernel_size=(5,5),padding='same',activation='relu'))"
      ],
      "metadata": {
        "id": "Yu2qyYB8baVo"
      },
      "execution_count": null,
      "outputs": []
    },
    {
      "cell_type": "code",
      "source": [
        "#casual padding - third type of padding this is a special type of padding and basically works with the one-dimensional convolutional layers, majorly used in time series analysis."
      ],
      "metadata": {
        "id": "LwysVSa1opTt"
      },
      "execution_count": null,
      "outputs": []
    },
    {
      "cell_type": "code",
      "source": [
        "model.summary()"
      ],
      "metadata": {
        "colab": {
          "base_uri": "https://localhost:8080/"
        },
        "id": "HOAMY-Gdc4Kl",
        "outputId": "4a938d01-0a86-405e-90b5-09349ea58d19"
      },
      "execution_count": null,
      "outputs": [
        {
          "output_type": "stream",
          "name": "stdout",
          "text": [
            "Model: \"sequential_7\"\n",
            "_________________________________________________________________\n",
            " Layer (type)                Output Shape              Param #   \n",
            "=================================================================\n",
            " conv2d_14 (Conv2D)          (None, 28, 28, 32)        320       \n",
            "                                                                 \n",
            " conv2d_15 (Conv2D)          (None, 28, 28, 64)        18496     \n",
            "                                                                 \n",
            " conv2d_16 (Conv2D)          (None, 28, 28, 128)       204928    \n",
            "                                                                 \n",
            "=================================================================\n",
            "Total params: 223,744\n",
            "Trainable params: 223,744\n",
            "Non-trainable params: 0\n",
            "_________________________________________________________________\n"
          ]
        }
      ]
    },
    {
      "cell_type": "code",
      "source": [],
      "metadata": {
        "id": "GkU5WCSCdIVL"
      },
      "execution_count": null,
      "outputs": []
    }
  ]
}